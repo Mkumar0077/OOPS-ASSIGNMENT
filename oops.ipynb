{
  "nbformat": 4,
  "nbformat_minor": 0,
  "metadata": {
    "colab": {
      "provenance": []
    },
    "kernelspec": {
      "name": "python3",
      "display_name": "Python 3"
    },
    "language_info": {
      "name": "python"
    }
  },
  "cells": [
    {
      "cell_type": "markdown",
      "source": [
        "# PYTHON OOPs QUESTION\n",
        "\n",
        "Q1. **What is Object-Oriented Programming (OOP)?**\n",
        "- Object-Oriented Programming (OOP) is a programming paradigm that uses \"objects\" to design applications and programs. In Python, OOP is a core feature that allows you to structure your code in a way that’s modular, reusable, and easier to maintain. It revolves around four main principles:\n",
        "\n",
        "- **Encapsulation**: Wrapping data and methods into a single unit (class) and restricting direct access to some of its components.\n",
        "- **Inheritance**: Allowing one class to inherit properties and methods from another class.\n",
        "- **Polymorphism**: The ability for different classes to be treated as the same type through a common interface, enabling a single function to perform different tasks based on the object.\n",
        "- **Abstraction**: Hiding complex implementation details and exposing only essential features to the users\n",
        "\n",
        "\n",
        "Q2. **What is a class in OOP?**\n",
        " - In Object-Oriented Programming, a *class* is like a blueprint or template for creating objects. It defines the structure and behavior that the objects created from the class will have. A class contains:\n",
        "\n",
        "  - **Attributes (or properties)**: These are variables that hold data specific to the class or its objects.\n",
        "  - **Methods**: These are functions defined inside the class that describe the actions or behaviors the objects can perform.\n",
        "\n",
        "Q3. **What is an object in OOP?**\n",
        " - In Object-Oriented Programming, an **object** is an instance of a class. It represents a real-world entity and contains data (attributes) and behavior (methods) defined by its class. While the class serves as a blueprint, the object is the concrete realization of that blueprint.\n",
        "\n",
        "Q4.  **What is the difference between abstraction and encapsulation?**\n",
        " - These are two fundamental concepts in Object-Oriented Programming (OOP), but they serve different purposes:\n",
        "\n",
        "### 1. **Abstraction**:\n",
        "   - *Definition*:- Abstraction is the process of hiding the implementation details and showing only the essential features of an object.\n",
        "   - *Purpose*:- Focuses on what an object does, rather than how it does it.\n",
        "   - *Example*:- When using a car, you know how to drive (accelerate, brake, turn) without needing to understand how the engine works internally.\n",
        "\n",
        "### 2. **Encapsulation**:\n",
        "   - *Definition*:- Encapsulation is the process of bundling the data (attributes) and methods (functions) that operate on the data into a single unit (class). It also restricts access to some of the object's components to ensure controlled interaction.\n",
        "   - *Purpose*:- Protects the object's integrity by preventing direct access to sensitive data and allows access via controlled methods (getters/setters).\n",
        "   - *Example*:- A bank account class that protects the balance and allows deposits and withdrawals through specific methods.\n",
        "\n",
        "Q5. **What are dunder methods in Python?**\n",
        " - Dunder methods, short for \"double underscore methods,\" are special methods in Python with names that start and end with double underscores (e.g., __init__, __str__). They are also known as \"magic methods\" or \"special methods\" and are used to define specific behaviors for objects. These methods allow you to customize how your objects interact with Python's built-in functionality.\n",
        "\n",
        "\n",
        "\n"
      ],
      "metadata": {
        "id": "p0uS5_Kdr1GE"
      }
    },
    {
      "cell_type": "code",
      "source": [
        "### Common Dunder Methods:\n",
        "1. #__init__(self, ...)*: The constructor method, called when an object is created. It initializes attributes.\n",
        "class Person:\n",
        "       def __init__(self, name, age):\n",
        "           self.name = name\n",
        "           self.age = age"
      ],
      "metadata": {
        "id": "aLz5VvmQBkPs"
      },
      "execution_count": null,
      "outputs": []
    },
    {
      "cell_type": "code",
      "source": [
        "#2. __str__(self)*: Defines the string representation of an object, used when you print the object.\n",
        "def __str__(self):\n",
        "       return f\"{self.name}, {self.age} years old\""
      ],
      "metadata": {
        "id": "WAzk9pPQCcZ0"
      },
      "execution_count": null,
      "outputs": []
    },
    {
      "cell_type": "code",
      "source": [
        "#3. *__repr__(self)*: Returns an official string representation of the object, useful for debugging.\n",
        "def __repr__(self):\n",
        "       return f\"Person(name={self.name}, age={self.age})\""
      ],
      "metadata": {
        "id": "RU2mvJucCvez"
      },
      "execution_count": null,
      "outputs": []
    },
    {
      "cell_type": "code",
      "source": [
        "#4__add__(self, other)*: Supports addition operator (+) for custom objects. This is an example of operator overloading.\n",
        "def __add__(self, other):\n",
        "       return self.age + other.age"
      ],
      "metadata": {
        "id": "o17CCbP0C-le"
      },
      "execution_count": null,
      "outputs": []
    },
    {
      "cell_type": "code",
      "source": [
        "#__len__(self)*: Defines behavior for the len() function.\n",
        "def __len__(self):\n",
        "       return len(self.name)"
      ],
      "metadata": {
        "id": "m7WFC2kGDN68"
      },
      "execution_count": null,
      "outputs": []
    },
    {
      "cell_type": "markdown",
      "source": [
        "Q6. **Explain the concept of inheritance in OOP?**\n",
        " - **Inheritance**:- is a fundamental principle of Object-Oriented Programming (OOP) that allows one class (called the *child class* or *subclass) to inherit the attributes and methods of another class (called the **parent class* or *superclass*). It promotes code reusability, as the child class can use or override the functionality of the parent class.\n",
        "\n",
        "### Key Points About Inheritance:\n",
        "   - *Base Class (Parent):* Defines the shared attributes and methods.\n",
        "   - *Derived Class (Child):* Inherits from the base class and can have additional attributes or methods.\n",
        "### Types of Inheritance:\n",
        "1. *Single Inheritance:* One child class inherits from one parent class.\n",
        "2. *Multiple Inheritance:* A child class inherits from multiple parent classes.\n",
        "3. *Multilevel Inheritance:* A class is derived from another derived class.\n",
        "4. *Hierarchical Inheritance:* Multiple classes inherit from a single parent class.\n",
        "\n",
        "Q7.**What is polymorphism in OOP?**\n",
        " - **Polymorphism** in Object-Oriented Programming (OOP) is the ability of objects belonging to different classes to respond to the same function or method call in different ways. It literally means \"many forms.\" Polymorphism allows one interface to be used for multiple implementations, making it easier to write flexible and reusable code.\n",
        "\n",
        "### Types of Polymorphism:\n",
        "1. *Compile-Time Polymorphism* (also known as static polymorphism): Achieved using method overloading.\n",
        "2. *Run-Time Polymorphism* (also known as dynamic polymorphism): Achieved using method overriding.\n"
      ],
      "metadata": {
        "id": "ZqtzQ8-gDiz8"
      }
    },
    {
      "cell_type": "markdown",
      "source": [
        "Q8. **How is encapsulation achieved in Python?**\n",
        " - Encapsulation is a mechanism in Python that restricts direct access to certain parts of an object, ensuring that data is protected and accessed in a controlled manner. It is achieved through:\n",
        "\n",
        "1. **Private Attributes**:- Using a double underscore (__) before the attribute name to make it private. Private attributes cannot be accessed directly from outside the class.\n",
        "   \n",
        "2. **Getter and Setter Methods**:- Providing methods to access and modify private attributes, allowing fine control over how the data is accessed or changed."
      ],
      "metadata": {
        "id": "0C_JxWwLbjbI"
      }
    },
    {
      "cell_type": "code",
      "source": [
        "#Example:-\n",
        "class BankAccount:\n",
        "    def __init__(self, balance):\n",
        "        self.__balance = balance  # Private attribute\n",
        "\n",
        "    def deposit(self, amount):\n",
        "        if amount > 0:\n",
        "            self.__balance += amount\n",
        "        else:\n",
        "            print(\"Invalid deposit amount.\")\n",
        "\n",
        "    def withdraw(self, amount):\n",
        "        if amount <= self.__balance:\n",
        "            self.__balance -= amount\n",
        "        else:\n",
        "            print(\"Insufficient funds.\")\n",
        "\n",
        "    def get_balance(self):\n",
        "        return self.__balance\n",
        "\n",
        "# Creating an object of the class\n",
        "account = BankAccount(1000)\n",
        "\n",
        "# Accessing private data through methods\n",
        "account.deposit(500)\n",
        "print(account.get_balance())  # Output: 1500\n",
        "account.withdraw(2000)"
      ],
      "metadata": {
        "colab": {
          "base_uri": "https://localhost:8080/"
        },
        "id": "24Se4wk9dTee",
        "outputId": "da1af581-2c3c-49f5-fff7-f127b4775ba5"
      },
      "execution_count": null,
      "outputs": [
        {
          "output_type": "stream",
          "name": "stdout",
          "text": [
            "1500\n",
            "Insufficient funds.\n"
          ]
        }
      ]
    },
    {
      "cell_type": "markdown",
      "source": [
        "In this example, the __balance attribute is private, and the deposit, withdraw, and get_balance methods control how it is modified or accessed.\n",
        "\n",
        "Q9. **What is a constructor in Python?**\n",
        " - A **constructor** is a special method in Python used to initialize objects of a class. It is defined using the __init__ method and is automatically called when a new object of the class is created. Constructors are typically used to set initial values for the attributes of a class."
      ],
      "metadata": {
        "id": "94TSskLmdn92"
      }
    },
    {
      "cell_type": "code",
      "source": [
        "#Example:-\n",
        "class Person:\n",
        "    def __init__(self, name, age):  # Constructor\n",
        "        self.name = name\n",
        "        self.age = age\n",
        "\n",
        "    def display(self):\n",
        "        print(f\"Name: {self.name}, Age: {self.age}\")\n",
        "\n",
        "# Creating objects of the class\n",
        "person1 = Person(\"Alice\", 30)\n",
        "person2 = Person(\"Bob\", 25)\n",
        "\n",
        "# Using the display method\n",
        "person1.display()\n",
        "person2.display()"
      ],
      "metadata": {
        "id": "ZQNrKdB7Dcmc",
        "colab": {
          "base_uri": "https://localhost:8080/"
        },
        "outputId": "e3d10db6-3ba3-4022-cf77-72e0b4fd253e"
      },
      "execution_count": null,
      "outputs": [
        {
          "output_type": "stream",
          "name": "stdout",
          "text": [
            "Name: Alice, Age: 30\n",
            "Name: Bob, Age: 25\n"
          ]
        }
      ]
    },
    {
      "cell_type": "markdown",
      "source": [
        "### Key Features:\n",
        "1. The constructor is optional; if not defined, Python provides a default constructor.\n",
        "2. It helps in creating objects with predefined properties and ensures proper initialization."
      ],
      "metadata": {
        "id": "se7qmi3Neakz"
      }
    },
    {
      "cell_type": "markdown",
      "source": [
        "Q10. **What are class and static methods in Python?**\n",
        "  - ### 1. ***Class Methods***:-\n",
        "- *Definition*: Methods that operate on the class itself, rather than on instances of the class. They are defined using the @classmethod decorator.\n",
        "- *Purpose*: Useful for tasks that involve the class as a whole, like factory methods or modifying class-level attributes.\n",
        "- *How to Use*: The first parameter is always cls, which refers to the class.\n",
        "  - ### 2. ***Static Methods***:-\n",
        "- *Definition*: Methods that do not operate on instances or the class itself. They are defined using the @staticmethod decorator.\n",
        "- *Purpose*: Used for utility functions that don’t require access to instance or class-specific data.\n",
        "- *How to Use*: No special first parameter like self or cls.\n",
        "\n",
        "Q11.**What is method overloading in Python?**\n",
        "  - **Method overloading:-** in Python allows multiple methods with the same name to behave differently based on the number or type of arguments passed to them. However, unlike some other programming languages, Python does not support method overloading in the strictest sense—it relies on default or variable arguments for this functionality.\n"
      ],
      "metadata": {
        "id": "DpWiScQNeiCO"
      }
    },
    {
      "cell_type": "code",
      "source": [
        "# Example of Method Overloading:-\n",
        "class Calculator:\n",
        "    def add(self, a, b=None):\n",
        "        if b is None:  # If only one argument is passed\n",
        "            return a\n",
        "        else:  # If two arguments are passed\n",
        "            return a + b\n",
        "\n",
        "# Creating an object of the Calculator class\n",
        "calc = Calculator()\n",
        "\n",
        "# Using the add method with one argument\n",
        "print(calc.add(5))\n",
        "\n",
        "# Using the add method with two arguments\n",
        "print(calc.add(5, 10))"
      ],
      "metadata": {
        "colab": {
          "base_uri": "https://localhost:8080/"
        },
        "id": "S2BFBCuMeU0K",
        "outputId": "c2a43836-0956-4572-b1c7-48fc50e417cb"
      },
      "execution_count": null,
      "outputs": [
        {
          "output_type": "stream",
          "name": "stdout",
          "text": [
            "5\n",
            "15\n"
          ]
        }
      ]
    },
    {
      "cell_type": "markdown",
      "source": [
        " In this example, the add method behaves differently depending on the number of arguments provided.\n",
        "\n",
        "While Python doesn't explicitly support method overloading as some other languages do (e.g., Java or C++), it achieves similar functionality through:\n",
        "- Default parameters.\n",
        "- Variable-length arguments (*args and **kwargs)\n",
        "\n",
        "Q12. **What is method overriding in OOP?**\n",
        "  - *Method overriding* occurs when a child class provides its own implementation of a method that is already defined in its parent class. The child class's version of the method takes precedence when called on an object of the child class. This is a key aspect of *runtime polymorphism* in Object-Oriented Programming (OOP).\n",
        "\n",
        "### Key Points:\n",
        "1. *Purpose*: To provide specific behavior in the child class while retaining the same method name as the parent class.\n",
        "2. *Rules*:\n",
        "   - The method name in the child class must match the one in the parent class.\n",
        "   - The method in the parent class should ideally be accessible (not private).\n",
        "3. *Use Case*: Useful when the behavior of a method in the parent class is not suitable for the child class."
      ],
      "metadata": {
        "id": "tJV606Ojgfkv"
      }
    },
    {
      "cell_type": "code",
      "source": [
        "# Example:-\n",
        "class Animal:\n",
        "    def speak(self):\n",
        "        return \"Some generic animal sound\"\n",
        "\n",
        "class Dog(Animal):\n",
        "    def speak(self):\n",
        "        return \"Bark!\"\n",
        "\n",
        "class Cat(Animal):\n",
        "    def speak(self):\n",
        "        return \"Meow!\"\n",
        "\n",
        "# Example of overriding\n",
        "animal = Animal()\n",
        "dog = Dog()\n",
        "cat = Cat()\n",
        "\n",
        "print(animal.speak())\n",
        "print(dog.speak())\n",
        "print(cat.speak())"
      ],
      "metadata": {
        "colab": {
          "base_uri": "https://localhost:8080/"
        },
        "id": "bh78smz0hI8I",
        "outputId": "e23c0fa2-a528-4b7b-f62a-08144c7a64d2"
      },
      "execution_count": null,
      "outputs": [
        {
          "output_type": "stream",
          "name": "stdout",
          "text": [
            "Some generic animal sound\n",
            "Bark!\n",
            "Meow!\n"
          ]
        }
      ]
    },
    {
      "cell_type": "markdown",
      "source": [
        "In this example:\n",
        "- The speak method is defined in the Animal class.\n",
        "- The Dog and Cat classes override the speak method to provide their own implementation.\n",
        "\n",
        "Q13. **What is a property decorator in Python?**\n",
        "  - A **property decorator** (@property) in Python is used to define methods that can be accessed like attributes without explicitly calling them. It allows us to customize access and control over instance attributes. This approach helps achieve encapsulation by controlling how data is read or modified.\n",
        "\n",
        "### Key Features:\n",
        "- Converts a method into a read-only property.\n",
        "- It eliminates the need for getter methods for attributes.\n",
        "- You can also use @<property_name>.setter and @<property_name>.deleter decorators to customize how the attribute is set or deleted."
      ],
      "metadata": {
        "id": "RGDaMITfhcJt"
      }
    },
    {
      "cell_type": "code",
      "source": [
        "\n",
        "### Example:-\n",
        "class Circle:\n",
        "    def __init__(self, radius):\n",
        "        self._radius = radius  # Protected attribute\n",
        "\n",
        "    @property\n",
        "    def radius(self):  # Getter method as a property\n",
        "        return self._radius\n",
        "\n",
        "    @radius.setter\n",
        "    def radius(self, value):  # Setter method to modify the radius\n",
        "        if value > 0:\n",
        "            self._radius = value\n",
        "        else:\n",
        "            print(\"Radius must be positive.\")\n",
        "\n",
        "    @radius.deleter\n",
        "    def radius(self):  # Deleter method for the radius\n",
        "        print(\"Deleting radius...\")\n",
        "        del self._radius\n",
        "\n",
        "# Demonstrating property decorator\n",
        "circle = Circle(5)\n",
        "print(circle.radius)  # Accessing radius like an attribute, Output: 5\n",
        "\n",
        "circle.radius = 10    # Modifying radius\n",
        "print(circle.radius)  # Output: 10\n",
        "\n",
        "del circle.radius     # Deleting radius, Output: Deleting radius..."
      ],
      "metadata": {
        "colab": {
          "base_uri": "https://localhost:8080/"
        },
        "id": "Fwx0Jo7PXwZ6",
        "outputId": "4f9270ce-c52c-4827-c975-856382127a86"
      },
      "execution_count": null,
      "outputs": [
        {
          "output_type": "stream",
          "name": "stdout",
          "text": [
            "5\n",
            "10\n",
            "Deleting radius...\n"
          ]
        }
      ]
    },
    {
      "cell_type": "markdown",
      "source": [
        "Q14. **Why is polymorphism important in OOP?**\n",
        "  - ### Importance of Polymorphism in OOP:-\n",
        "\n",
        "1. **Code Reusability**:-\n",
        "   - Polymorphism allows methods to be reused across different classes while maintaining specific behavior. For instance, a method like draw() can be implemented for different shapes (circle, rectangle, etc.) without altering the code.\n",
        "\n",
        "2. **Flexibility**:-\n",
        "   - It provides the ability to write flexible and maintainable code. You can program to an interface rather than a specific implementation, which makes your code adaptable to future changes.\n",
        "\n",
        "3. **Simplifies Code**:-\n",
        "   - With polymorphism, you can write generic code that works with objects of different classes. This eliminates the need to write multiple versions of the same code for different types of objects.\n",
        "\n",
        "4. **Encourages Overriding**:-\n",
        "   - Polymorphism facilitates method overriding, where derived classes can redefine parent class methods to exhibit specific behavior.\n",
        "\n",
        "5. **Supports Extensibility**:-\n",
        "   - Adding new functionality becomes easier. You can add new classes with specific behaviors, and they seamlessly fit into the polymorphic structure without altering existing code.\n",
        "\n",
        "Q15. **What is an abstract class in Python?**\n",
        "  - An **abstract class** in Python is a class that cannot be instantiated directly and is used as a blueprint for other classes. Abstract classes define methods that must be implemented in derived classes, enforcing a contract for subclasses.\n",
        "\n",
        "### Key Features:-\n",
        "1. **Use of ABC module**:- Abstract classes are created using the ABC (Abstract Base Class) module.\n",
        "2. **Abstract Methods**:- Methods decorated with @abstractmethod must be implemented in any subclass.\n",
        "3. **Purpose**:- Provides a template for derived classes, ensuring they follow a particular structure or behavior.\n",
        "\n",
        "Q16. **What are the advantages of OOP?**\n",
        "  - Object-Oriented Programming (OOP) offers numerous advantages in software development:\n",
        "\n",
        "### Key Benefits of OOP:-\n",
        "1. **Modularity**:-\n",
        "   - Code is organized into classes and objects, making it easier to manage and maintain.\n",
        "   - Individual components can be developed and tested independently.\n",
        "\n",
        "2. **Reusability**:-\n",
        "   - Classes and methods can be reused across different programs or projects, reducing redundancy.\n",
        "   - Inheritance allows child classes to reuse and extend functionality from parent classes.\n",
        "\n",
        "3. **Encapsulation**:-\n",
        "   - Protects the integrity of data by restricting direct access to attributes and providing controlled interaction through methods.\n",
        "   - Helps prevent accidental modifications to sensitive data.\n",
        "\n",
        "4. **Flexibility and Extensibility**:-\n",
        "   - New features can be added to existing classes without altering the existing code.\n",
        "   - Polymorphism allows methods to handle different types of data or objects seamlessly.\n",
        "\n",
        "5. **Ease of Troubleshooting**:-\n",
        "   - Objects model real-world entities, making code more intuitive and easier to debug.\n",
        "   - Logical grouping of data and behavior simplifies identification of issues.\n",
        "\n",
        "6. **Real-World Modeling**:-\n",
        "   - OOP concepts like abstraction and inheritance enable developers to create programs that closely mirror real-world scenarios.\n",
        "\n",
        "### Practical Example:-\n",
        "Imagine we're building software for a library system. We can create classes like Book, Author, and Member, with specific attributes and methods. This modular design makes it easier to add new functionalities like borrowing rules or book categories.\n",
        "\n",
        "Q17. **What is the difference between a class variable and an instance variable?**\n",
        "  - ### Key Differences:\n",
        "\n",
        "| *Aspect*          | *Class Variable*                                   | *Instance Variable*                               |\n",
        "|----------------------|-----------------------------------------------------|----------------------------------------------------|\n",
        "| *Definition*       | Shared across all instances of the class.            | Specific to each instance of the class.            |\n",
        "| *Storage*          | Stored in the class itself.                         | Stored in the instance (object).                   |\n",
        "| *Scope*            | Accessed using either the class name or an instance.| Accessed using only an instance of the class.      |\n",
        "| *Modification*     | Changes affect all instances of the class.          | Changes affect only the specific instance.         |\n",
        "| *Use Case*         | Useful for data shared by all instances.            | Useful for data unique to each instance.           |\n"
      ],
      "metadata": {
        "id": "0wM-Kw9jY6ij"
      }
    },
    {
      "cell_type": "markdown",
      "source": [
        "Q18. **What is multiple inheritance in Python?**\n",
        "  - **Multiple inheritance** is a feature in Python where a class can inherit from more than one parent class. This allows the child class to have attributes and methods from all parent classes. However, it requires careful handling to avoid conflicts, especially when the parent classes have methods or attributes with the same name.\n",
        "  "
      ],
      "metadata": {
        "id": "DcARxZaqev8e"
      }
    },
    {
      "cell_type": "code",
      "source": [
        "### Syntax:-\n",
        "class Parent1:\n",
        "    def method1(self):\n",
        "        print(\"This is method1 from Parent1\")\n",
        "\n",
        "class Parent2:\n",
        "    def method2(self):\n",
        "        print(\"This is method2 from Parent2\")\n",
        "\n",
        "class Child(Parent1, Parent2):\n",
        "    pass\n",
        "\n",
        "# Creating an instance of the child class\n",
        "child = Child()\n",
        "child.method1()\n",
        "child.method2()"
      ],
      "metadata": {
        "colab": {
          "base_uri": "https://localhost:8080/"
        },
        "id": "uOZAabcKjMOk",
        "outputId": "9de49bb4-20e5-4500-ab58-cfe23caaf74b"
      },
      "execution_count": null,
      "outputs": [
        {
          "output_type": "stream",
          "name": "stdout",
          "text": [
            "This is method1 from Parent1\n",
            "This is method2 from Parent2\n"
          ]
        }
      ]
    },
    {
      "cell_type": "markdown",
      "source": [
        "### Advantages:-\n",
        "1. **Code Reusability**:- Allows a class to reuse code from multiple classes.\n",
        "2. **Extensibility**:- Enables a child class to combine functionalities of multiple parent classes.\n",
        "\n",
        "### Challenges:-\n",
        "1. **Method Resolution Order (MRO)**:- Python uses the C3 linearization algorithm to determine the order in which classes are searched for methods and attributes. You can view the MRO using the __mro__ attribute or mro() method.\n",
        "   python\n",
        "   print(Child.mro())\n",
        "   \n",
        "2. **Name Conflicts**:- If parent classes have methods or attributes with the same name, it can lead to ambiguity.\n",
        "\n",
        "Q19.**Explain the purpose of ‘’__str__’ and ‘__repr__’ ‘ methods in Python.**\n",
        "  - ### 1. *__str__ Method* :-\n",
        "- **Purpose**:- The __str__ method is used to define a string representation of an object that is user-friendly and intended for display. When you use print() or str() on an object, it calls the __str__ method.\n",
        "- **Goal**:- To provide a readable and informal string representation of an object."
      ],
      "metadata": {
        "id": "jo6_yr9-jxcE"
      }
    },
    {
      "cell_type": "code",
      "source": [
        "#Example:-\n",
        "class Book:\n",
        "    def __init__(self, title, author):\n",
        "        self.title = title\n",
        "        self.author = author\n",
        "\n",
        "    def __str__(self):\n",
        "        return f\"'{self.title}' by {self.author}\"\n",
        "\n",
        "book = Book(\"1984\", \"George Orwell\")\n",
        "print(book)"
      ],
      "metadata": {
        "colab": {
          "base_uri": "https://localhost:8080/"
        },
        "id": "7YiCvRIDlj74",
        "outputId": "0fde6bca-b9bd-4a94-e3e8-d2af89484dd3"
      },
      "execution_count": null,
      "outputs": [
        {
          "output_type": "stream",
          "name": "stdout",
          "text": [
            "'1984' by George Orwell\n"
          ]
        }
      ]
    },
    {
      "cell_type": "markdown",
      "source": [
        "### 2. *__repr__ Method* :-\n",
        "- **Purpose**:- The __repr__ method is used to define an official string representation of an object, mainly for debugging and development. It is often more detailed and unambiguous than the output of __str__.\n",
        "- **Goal**:-To provide a string representation that, if passed to the eval() function, could recreate the object"
      ],
      "metadata": {
        "id": "JNJaLV-NluXf"
      }
    },
    {
      "cell_type": "code",
      "source": [
        "#Example:-\n",
        "class Book:\n",
        "    def __init__(self, title, author):\n",
        "        self.title = title\n",
        "        self.author = author\n",
        "\n",
        "    def __repr__(self):\n",
        "        return f\"Book(title='{self.title}', author='{self.author}')\"\n",
        "\n",
        "book = Book(\"1984\", \"George Orwell\")\n",
        "print(repr(book))"
      ],
      "metadata": {
        "colab": {
          "base_uri": "https://localhost:8080/"
        },
        "id": "h0kM2iwImC7A",
        "outputId": "1201e737-2559-4664-ffee-e14fb54bfe1a"
      },
      "execution_count": null,
      "outputs": [
        {
          "output_type": "stream",
          "name": "stdout",
          "text": [
            "Book(title='1984', author='George Orwell')\n"
          ]
        }
      ]
    },
    {
      "cell_type": "markdown",
      "source": [
        "### Key Differences :-\n",
        "| *Aspect*      | *__str__*                          | *__repr__*                       |\n",
        "|------------------|----------------------------------------|---------------------------------------|\n",
        "| *Intent*       | User-friendly, informal display        | Developer-friendly, detailed display  |\n",
        "| *Usage*        | Called by str() and print()        | Called by repr() or interactive shell |\n",
        "| *Target*       | End users                             | Developers                            |\n"
      ],
      "metadata": {
        "id": "NfDonsODmlZU"
      }
    },
    {
      "cell_type": "markdown",
      "source": [
        "Q20. ** What is the significance of the ‘super()’ function in Python?**\n",
        "  - The super() function in Python is used to access methods or attributes of a parent class from within a child class. It is particularly useful when working with inheritance, as it allows you to call a parent class's method without referring to the parent class explicitly. This helps ensure that the code remains scalable and avoids redundancy.\n",
        "\n",
        "### Key Features:-\n",
        "1. *Access Parent Methods*: Enables the child class to call methods or constructors (__init__) of the parent class.\n",
        "2. *Supports Multiple Inheritance*: Works seamlessly with multiple inheritance by following the method resolution order (MRO)."
      ],
      "metadata": {
        "id": "c2Qz6qrEmr3-"
      }
    },
    {
      "cell_type": "code",
      "source": [
        "### Example:\n",
        "class Parent:\n",
        "    def greet(self):\n",
        "        print(\"Hello from Parent!\")\n",
        "\n",
        "class Child(Parent):\n",
        "    def greet(self):\n",
        "        super().greet()  # Calls the parent class's greet method\n",
        "        print(\"Hello from Child!\")\n",
        "\n",
        "# Demonstration\n",
        "child = Child()\n",
        "child.greet()"
      ],
      "metadata": {
        "colab": {
          "base_uri": "https://localhost:8080/"
        },
        "id": "jCZXdl-9oKKF",
        "outputId": "5845d146-bba4-499d-f758-48494c6c8a38"
      },
      "execution_count": null,
      "outputs": [
        {
          "output_type": "stream",
          "name": "stdout",
          "text": [
            "Hello from Parent!\n",
            "Hello from Child!\n"
          ]
        }
      ]
    },
    {
      "cell_type": "markdown",
      "source": [
        "Here, the super() function in the Child class calls the greet() method from the Parent class before executing its own version.\n",
        "\n",
        "### Why super() is Significant:\n",
        "1. **Simplifies Code**:- Eliminates the need to write redundant code to access parent class functionality.\n",
        "2. **Improves Maintainability**:- Makes code easier to maintain and modify, especially in complex inheritance scenarios.\n",
        "3. **Follows MRO**:- Ensures proper execution order in classes involved in multiple inheritance.\n",
        "\n",
        "Q21. **What is the significance of the __del__ method in Python?**\n",
        "  - The __del__ method in Python is a special (dunder) method known as the destructor. It is automatically called when an object is about to be destroyed or garbage-collected. Its primary purpose is to clean up resources or perform final tasks before the object is removed from memory.\n",
        "\n",
        "### Key Features:\n",
        "1. **Triggered Automatically**:- Called when the object is deleted using del or when it goes out of scope.\n",
        "2. **Resource Cleanup**:- Useful for releasing resources like closing files, database connections, or network sockets.\n",
        "3. **Not Always Reliable**:- Python's garbage collection mechanism does not guarantee the exact timing of __del__. Therefore, manual resource management is often preferred for critical cleanup tasks.\n",
        "\n",
        "Q22. **What is the difference between @staticmethod and @classmethod in Python?**\n",
        "### Key Differences:\n",
        "\n",
        "| *Aspect*          | *Static Method*                                     | *Class Method*                                     |\n",
        "|----------------------|------------------------------------------------------|-----------------------------------------------------|\n",
        "| *Decorator Used*   | @staticmethod                                      | @classmethod                                      |\n",
        "| *First Parameter*  | No required special first parameter.                 | First parameter is cls, representing the class.   |\n",
        "| *Access*           | Does not access class or instance-specific attributes.| Can access class-level attributes and methods.      |\n",
        "| *Use Case*         | Used for utility functions that do not depend on class.| Used for operations related to the class itself.    |"
      ],
      "metadata": {
        "id": "JA4YlJkYodzq"
      }
    },
    {
      "cell_type": "code",
      "source": [
        "# Static Method Example:-\n",
        "class Utility:\n",
        "    @staticmethod\n",
        "    def multiply(a, b):\n",
        "        return a * b\n",
        "\n",
        "# Usage\n",
        "print(Utility.multiply(3, 5))"
      ],
      "metadata": {
        "colab": {
          "base_uri": "https://localhost:8080/"
        },
        "id": "4gwptS6Ojptj",
        "outputId": "572e040f-a008-4fc7-e207-d2146674b4e6"
      },
      "execution_count": null,
      "outputs": [
        {
          "output_type": "stream",
          "name": "stdout",
          "text": [
            "15\n"
          ]
        }
      ]
    },
    {
      "cell_type": "code",
      "source": [
        "## Class Method Example:-\n",
        "class Person:\n",
        "    count = 0  # Class-level attribute\n",
        "\n",
        "    def __init__(self, name):\n",
        "        self.name = name\n",
        "        Person.count += 1\n",
        "\n",
        "    @classmethod\n",
        "    def get_count(cls):\n",
        "        return cls.count\n",
        "\n",
        "# Creating objects and using the class method\n",
        "person1 = Person(\"Alice\")\n",
        "person2 = Person(\"Bob\")\n",
        "print(Person.get_count())"
      ],
      "metadata": {
        "colab": {
          "base_uri": "https://localhost:8080/"
        },
        "id": "7JhOkn1mqZBx",
        "outputId": "f3a2ca5e-90c6-4b0d-df45-2dfc7eed7998"
      },
      "execution_count": null,
      "outputs": [
        {
          "output_type": "stream",
          "name": "stdout",
          "text": [
            "2\n"
          ]
        }
      ]
    },
    {
      "cell_type": "markdown",
      "source": [
        "### Summary:\n",
        "- Static methods are ideal for operations independent of the class or its instances.\n",
        "- Class methods are designed for tasks that involve the class as a whole.\n",
        "\n",
        "Q23. **How does polymorphism work in Python with inheritance?**\n",
        "  - Polymorphism in Python leverages inheritance to allow the same method to have different implementations across different classes. This ensures flexibility and consistency in code, as objects of different classes can be used interchangeably if they share the same method interface. This is often achieved using **method overriding**.\n"
      ],
      "metadata": {
        "id": "HAPeSSimqQx4"
      }
    },
    {
      "cell_type": "code",
      "source": [
        "# Key Example:-\n",
        "class Animal:\n",
        "    def sound(self):\n",
        "        return \"Some generic animal sound\"\n",
        "\n",
        "class Dog(Animal):\n",
        "    def sound(self):\n",
        "        return \"Bark!\"\n",
        "\n",
        "class Cat(Animal):\n",
        "    def sound(self):\n",
        "        return \"Meow!\"\n",
        "\n",
        "# Function demonstrating polymorphism\n",
        "def animal_sound(animal):\n",
        "    print(animal.sound())\n",
        "\n",
        "# Using the same function with objects of different classes\n",
        "animals = [Dog(), Cat(), Animal()]\n",
        "for animal in animals:\n",
        "    animal_sound(animal)"
      ],
      "metadata": {
        "colab": {
          "base_uri": "https://localhost:8080/"
        },
        "id": "R1SWibg-rLoC",
        "outputId": "d6f094b7-36ca-4601-9210-eb0de0ddafd5"
      },
      "execution_count": null,
      "outputs": [
        {
          "output_type": "stream",
          "name": "stdout",
          "text": [
            "Bark!\n",
            "Meow!\n",
            "Some generic animal sound\n"
          ]
        }
      ]
    },
    {
      "cell_type": "markdown",
      "source": [
        "### Explanation:\n",
        "- **Inheritance**:- The Dog and Cat classes inherit from the Animal base class.\n",
        "- **Overriding**:- Both Dog and Cat provide their specific implementation of the sound() method.\n",
        "- **Polymorphism**:- The function animal_sound() calls the appropriate sound() method based on the type of object passed to it.\n",
        "\n",
        "This demonstrates how a single interface (the sound() method) can support multiple forms, a hallmark of polymorphism.\n",
        "\n",
        "Q24. **What is method chaining in Python OOP?**\n",
        "  - ### Method Chaining:\n",
        "Method chaining is a programming technique in Object-Oriented Programming where multiple methods are called on the same object in a single statement. Each method in the chain performs an operation and then returns the object itself (often using return self), allowing the next method to be called sequentially.\n",
        "\n",
        "### Why Use Method Chaining?\n",
        "1. *Improved Readability*: It makes the code more concise and readable.\n",
        "2. *Fluent Interface*: Creates a flow-like syntax that is easy to understand.\n"
      ],
      "metadata": {
        "id": "3Q-EPA2HrdPK"
      }
    },
    {
      "cell_type": "code",
      "source": [
        "# Example :-\n",
        "class Person:\n",
        "    def __init__(self, name):\n",
        "        self.name = name\n",
        "        self.skills = []\n",
        "\n",
        "    def add_skill(self, skill):\n",
        "        self.skills.append(skill)\n",
        "        return self  # Returns the object itself for chaining\n",
        "\n",
        "    def display(self):\n",
        "        print(f\"{self.name} has skills: {', '.join(self.skills)}\")\n",
        "        return self  # Allows further chaining if needed\n",
        "\n",
        "# Using method chaining\n",
        "person = Person(\"Alice\")\n",
        "person.add_skill(\"Python\").add_skill(\"Data Analysis\").display()"
      ],
      "metadata": {
        "colab": {
          "base_uri": "https://localhost:8080/"
        },
        "id": "PbgZp0bTsPMC",
        "outputId": "bdb0ec49-738b-4e1c-a11a-37f4359b0701"
      },
      "execution_count": null,
      "outputs": [
        {
          "output_type": "stream",
          "name": "stdout",
          "text": [
            "Alice has skills: Python, Data Analysis\n"
          ]
        },
        {
          "output_type": "execute_result",
          "data": {
            "text/plain": [
              "<__main__.Person at 0x786584e7af90>"
            ]
          },
          "metadata": {},
          "execution_count": 9
        }
      ]
    },
    {
      "cell_type": "markdown",
      "source": [
        "\n",
        "### How It Works:-\n",
        "1. The add_skill method adds a skill to the skills list and returns the Person object itself using return self.\n",
        "2. This returned object is used to call the next method (display in this case).\n",
        "\n",
        "Q25. **What is the purpose of the __call__ method in Python?**\n",
        "  - The __call__ method is a special method in Python that allows instances of a class to be called like a function. When the __call__ method is implemented in a class, it gets triggered whenever an object of the class is called directly using parentheses.\n",
        "\n",
        "### Key Features:\n",
        "1. ***Enhances Functionality***:-\n",
        "   - Makes objects callable like functions.\n",
        "   - Can be used to encapsulate operations or computations inside an object.\n",
        "\n",
        "2. ***Dynamic Behavior***:-\n",
        "   - Allows objects to behave differently based on how they are called."
      ],
      "metadata": {
        "id": "6vdbhYFvstCt"
      }
    },
    {
      "cell_type": "code",
      "source": [
        "# Example:-\n",
        "class Multiplier:\n",
        "    def __init__(self, factor):\n",
        "        self.factor = factor\n",
        "\n",
        "    def __call__(self, number):\n",
        "        return self.factor * number\n",
        "\n",
        "# Creating an instance of the class\n",
        "double = Multiplier(2)\n",
        "triple = Multiplier(3)\n",
        "\n",
        "# Using the object as a function\n",
        "print(double(5))\n",
        "print(triple(5))"
      ],
      "metadata": {
        "colab": {
          "base_uri": "https://localhost:8080/"
        },
        "id": "o4cdOk5MtqYf",
        "outputId": "e9971ad6-26cb-4f38-dcdf-d1054455f50a"
      },
      "execution_count": null,
      "outputs": [
        {
          "output_type": "stream",
          "name": "stdout",
          "text": [
            "10\n",
            "15\n"
          ]
        }
      ]
    },
    {
      "cell_type": "markdown",
      "source": [
        "## Use Cases:-\n",
        "- **Custom Callable Objects**:- Useful for scenarios where objects need to act like functions.\n",
        "- **Encapsulation**:- Helps hide complex logic within an object.\n",
        "- **Decorator-like Behavior**:- Can simulate or implement decorator-like functionality."
      ],
      "metadata": {
        "id": "9Wdl2ad4txTh"
      }
    },
    {
      "cell_type": "markdown",
      "source": [
        "# Practical Questions\n",
        "Q1. **Create a parent class Animal with a method speak() that prints a generic message. Create a child class Dog\n",
        "that overrides the speak() method to print \"Bark!\".**"
      ],
      "metadata": {
        "id": "TmT5HvbgtXng"
      }
    },
    {
      "cell_type": "code",
      "source": [
        "# Define the parent class\n",
        "class Animal:\n",
        "    def speak(self):\n",
        "        print(\"This animal speaks in its own way.\")\n",
        "\n",
        "# Define the child class\n",
        "class Dog(Animal):\n",
        "    def speak(self):\n",
        "        print(\"Bark!\")\n",
        "\n",
        "# Create objects and demonstrate functionality\n",
        "generic_animal = Animal()\n",
        "generic_animal.speak()\n",
        "\n",
        "dog = Dog()\n",
        "dog.speak()"
      ],
      "metadata": {
        "colab": {
          "base_uri": "https://localhost:8080/"
        },
        "id": "kmfJOQQ_t1UQ",
        "outputId": "f3456a32-6130-499a-cc33-259412c89ee7"
      },
      "execution_count": null,
      "outputs": [
        {
          "output_type": "stream",
          "name": "stdout",
          "text": [
            "This animal speaks in its own way.\n",
            "Bark!\n"
          ]
        }
      ]
    },
    {
      "cell_type": "markdown",
      "source": [
        "Q2. **Write a program to create an abstract class Shape with a method area(). Derive classes Circle and Rectangle\n",
        "from it and implement the area() method in both.**\n"
      ],
      "metadata": {
        "id": "DKFdT9snuQVl"
      }
    },
    {
      "cell_type": "code",
      "source": [
        "from abc import ABC, abstractmethod\n",
        "\n",
        "# Define the abstract class Shape\n",
        "class Shape(ABC):\n",
        "    @abstractmethod\n",
        "    def area(self):\n",
        "        pass\n",
        "\n",
        "# Derive the Circle class from Shape\n",
        "class Circle(Shape):\n",
        "    def __init__(self, radius):\n",
        "        self.radius = radius\n",
        "\n",
        "    def area(self):\n",
        "        return 3.14 * self.radius * self.radius\n",
        "\n",
        "# Derive the Rectangle class from Shape\n",
        "class Rectangle(Shape):\n",
        "    def __init__(self, length, breadth):\n",
        "        self.length = length\n",
        "        self.breadth = breadth\n",
        "\n",
        "    def area(self):\n",
        "        return self.length * self.breadth\n",
        "\n",
        "# Example usage\n",
        "circle = Circle(radius=5)\n",
        "print(\"Area of Circle:\", circle.area())\n",
        "\n",
        "rectangle = Rectangle(length=4, breadth=6)\n",
        "print(\"Area of Rectangle:\", rectangle.area())\n"
      ],
      "metadata": {
        "id": "UHZz1WJhgd8h",
        "colab": {
          "base_uri": "https://localhost:8080/"
        },
        "outputId": "d0737438-f81a-4e28-cf5d-16807d96af68"
      },
      "execution_count": null,
      "outputs": [
        {
          "output_type": "stream",
          "name": "stdout",
          "text": [
            "Area of Circle: 78.5\n",
            "Area of Rectangle: 24\n"
          ]
        }
      ]
    },
    {
      "cell_type": "markdown",
      "source": [
        "Q3. **Implement a multi-level inheritance scenario where a class Vehicle has an attribute type. Derive a class Car\n",
        "and further derive a class ElectricCar that adds a battery attribute.**\n"
      ],
      "metadata": {
        "id": "k3I_8eLovuBo"
      }
    },
    {
      "cell_type": "code",
      "source": [
        "# Base class\n",
        "class Vehicle:\n",
        "    def __init__(self, vehicle_type):\n",
        "        self.vehicle_type = vehicle_type\n",
        "\n",
        "    def display_type(self):\n",
        "        print(f\"Type of Vehicle: {self.vehicle_type}\")\n",
        "\n",
        "# Derived class\n",
        "class Car(Vehicle):\n",
        "    def __init__(self, vehicle_type, brand):\n",
        "        super().__init__(vehicle_type)\n",
        "        self.brand = brand\n",
        "\n",
        "    def display_car_details(self):\n",
        "        print(f\"Brand: {self.brand}\")\n",
        "\n",
        "# Further derived class\n",
        "class ElectricCar(Car):\n",
        "    def __init__(self, vehicle_type, brand, battery_capacity):\n",
        "        super().__init__(vehicle_type, brand)\n",
        "        self.battery_capacity = battery_capacity\n",
        "\n",
        "    def display_electric_car_details(self):\n",
        "        print(f\"Battery Capacity: {self.battery_capacity} kWh\")\n",
        "\n",
        "# Example usage\n",
        "vehicle = Vehicle(\"Four-wheeler\")\n",
        "vehicle.display_type()\n",
        "\n",
        "car = Car(\"Four-wheeler\", \"Toyota\")\n",
        "car.display_type()\n",
        "car.display_car_details()\n",
        "\n",
        "electric_car = ElectricCar(\"Four-wheeler\", \"Tesla\", 75)\n",
        "electric_car.display_type()\n",
        "electric_car.display_car_details()\n",
        "electric_car.display_electric_car_details()"
      ],
      "metadata": {
        "colab": {
          "base_uri": "https://localhost:8080/"
        },
        "id": "prg4gjn4vpY2",
        "outputId": "4a798dcf-783e-45f6-b375-3e567ec386b8"
      },
      "execution_count": null,
      "outputs": [
        {
          "output_type": "stream",
          "name": "stdout",
          "text": [
            "Type of Vehicle: Four-wheeler\n",
            "Type of Vehicle: Four-wheeler\n",
            "Brand: Toyota\n",
            "Type of Vehicle: Four-wheeler\n",
            "Brand: Tesla\n",
            "Battery Capacity: 75 kWh\n"
          ]
        }
      ]
    },
    {
      "cell_type": "markdown",
      "source": [
        "Q4. **Demonstrate polymorphism by creating a base class Bird with a method fly(). Create two derived classes\n",
        "Sparrow and Penguin that override the fly() method.**"
      ],
      "metadata": {
        "id": "ySaKKdatwGYA"
      }
    },
    {
      "cell_type": "code",
      "source": [
        "# Base class\n",
        "class Bird:\n",
        "    def fly(self):\n",
        "        print(\"Birds generally fly.\")\n",
        "\n",
        "# Derived class Sparrow\n",
        "class Sparrow(Bird):\n",
        "    def fly(self):\n",
        "        print(\"Sparrows fly high and fast.\")\n",
        "\n",
        "# Derived class Penguin\n",
        "class Penguin(Bird):\n",
        "    def fly(self):\n",
        "        print(\"Penguins cannot fly, they swim instead.\")\n",
        "\n",
        "# Function to demonstrate polymorphism\n",
        "def demonstrate_flying(bird):\n",
        "    bird.fly()\n",
        "\n",
        "# Example usage\n",
        "sparrow = Sparrow()\n",
        "penguin = Penguin()\n",
        "\n",
        "# Polymorphic behavior\n",
        "demonstrate_flying(sparrow)  # Calls Sparrow's fly() method\n",
        "demonstrate_flying(penguin)  # Calls Penguin's fly() method"
      ],
      "metadata": {
        "colab": {
          "base_uri": "https://localhost:8080/"
        },
        "id": "Ta3hlx3iwme3",
        "outputId": "ac662f7a-0eed-4146-8366-10095666fc39"
      },
      "execution_count": null,
      "outputs": [
        {
          "output_type": "stream",
          "name": "stdout",
          "text": [
            "Sparrows fly high and fast.\n",
            "Penguins cannot fly, they swim instead.\n"
          ]
        }
      ]
    },
    {
      "cell_type": "markdown",
      "source": [
        "Q5. **Write a program to demonstrate encapsulation by creating a class BankAccount with private attributes\n",
        "balance and methods to deposit, withdraw, and check balance.**\n"
      ],
      "metadata": {
        "id": "a5sntTnvwlrZ"
      }
    },
    {
      "source": [
        "class BankAccount:\n",
        "    def __init__(self, account_number, initial_balance=0):\n",
        "        self.__account_number = account_number  # Private attribute\n",
        "        self.__balance = initial_balance      # Private attribute\n",
        "\n",
        "    def deposit(self, amount):\n",
        "        if amount > 0:\n",
        "            self.__balance += amount\n",
        "            print(f\"Deposited ₹{amount}. New balance: ₹{self.__balance}\")\n",
        "        else:\n",
        "            print(\"Invalid deposit amount.\")\n",
        "\n",
        "    def withdraw(self, amount):\n",
        "        if amount > 0 and amount <= self.__balance:\n",
        "            self.__balance -= amount\n",
        "            print(f\"Withdrew ₹{amount}. New balance: ₹{self.__balance}\")\n",
        "        elif amount <= 0:\n",
        "            print(\"Invalid withdrawal amount.\")\n",
        "        else:\n",
        "            print(\"Insufficient balance.\")\n",
        "\n",
        "    def check_balance(self):\n",
        "        return self.__balance\n",
        "\n",
        "    def get_account_number(self):\n",
        "        return self.__account_number\n",
        "\n",
        "# Creating an instance of BankAccount\n",
        "account1 = BankAccount(\"123456\", 1000)\n",
        "\n",
        "# Accessing public methods to interact with the private attributes\n",
        "print(f\"Account Number: {account1.get_account_number()}\")\n",
        "account1.deposit(500)\n",
        "account1.withdraw(200)\n",
        "print(f\"Current Balance: ₹{account1.check_balance()}\")\n",
        "account1.withdraw(1500)\n",
        "\n",
        "# Trying to access private attributes directly (will result in an AttributeError)\n",
        "# print(account1.__balance)"
      ],
      "cell_type": "code",
      "metadata": {
        "colab": {
          "base_uri": "https://localhost:8080/"
        },
        "id": "D2LZsKx96MW8",
        "outputId": "c4c9b029-5c51-4c23-f39f-78311bf3c957"
      },
      "execution_count": 16,
      "outputs": [
        {
          "output_type": "stream",
          "name": "stdout",
          "text": [
            "Account Number: 123456\n",
            "Deposited ₹500. New balance: ₹1500\n",
            "Withdrew ₹200. New balance: ₹1300\n",
            "Current Balance: ₹1300\n",
            "Insufficient balance.\n"
          ]
        }
      ]
    },
    {
      "cell_type": "markdown",
      "source": [
        "Q6.**Demonstrate runtime polymorphism using a method play() in a base class Instrument. Derive classes Guitar\n",
        "and Piano that implement their own version of play().**"
      ],
      "metadata": {
        "id": "fVp0HpR46iIR"
      }
    },
    {
      "source": [
        "class Instrument:\n",
        "    def play(self):\n",
        "        print(\"Playing a generic instrument\")\n",
        "\n",
        "class Guitar(Instrument):\n",
        "    def play(self):\n",
        "        print(\"Strumming the guitar\")\n",
        "\n",
        "class Piano(Instrument):\n",
        "    def play(self):\n",
        "        print(\"Tickling the ivories\")\n",
        "\n",
        "# Function demonstrating polymorphism\n",
        "def play_instrument(instrument):\n",
        "    instrument.play()\n",
        "\n",
        "# Creating instances of different instruments\n",
        "guitar = Guitar()\n",
        "piano = Piano()\n",
        "\n",
        "# Polymorphic behavior\n",
        "play_instrument(guitar)  # Calls Guitar's play() method\n",
        "play_instrument(piano)   # Calls Piano's play() method"
      ],
      "cell_type": "code",
      "metadata": {
        "colab": {
          "base_uri": "https://localhost:8080/"
        },
        "id": "MXnB5E-L7d0G",
        "outputId": "acd96bc4-a92b-4956-ad69-769b94681c2f"
      },
      "execution_count": 17,
      "outputs": [
        {
          "output_type": "stream",
          "name": "stdout",
          "text": [
            "Strumming the guitar\n",
            "Tickling the ivories\n"
          ]
        }
      ]
    },
    {
      "cell_type": "markdown",
      "source": [
        "Q7. **Create a class MathOperations with a class method add_numbers() to add two numbers and a static\n",
        "method subtract_numbers() to subtract two numbers.**"
      ],
      "metadata": {
        "id": "GPi318MZ7lzu"
      }
    },
    {
      "source": [
        "class MathOperations:\n",
        "    @classmethod\n",
        "    def add_numbers(cls, num1, num2):\n",
        "        \"\"\"Adds two numbers together.\"\"\"\n",
        "        return num1 + num2\n",
        "\n",
        "    @staticmethod\n",
        "    def subtract_numbers(num1, num2):\n",
        "        \"\"\"Subtracts two numbers.\"\"\"\n",
        "        return num1 - num2\n",
        "\n",
        "# Example usage:\n",
        "result_add = MathOperations.add_numbers(5, 3)  # Using class method\n",
        "result_subtract = MathOperations.subtract_numbers(10, 4)  # Using static method\n",
        "\n",
        "print(f\"Addition result: {result_add}\")\n",
        "print(f\"Subtraction result: {result_subtract}\")"
      ],
      "cell_type": "code",
      "metadata": {
        "colab": {
          "base_uri": "https://localhost:8080/"
        },
        "id": "xRpi5G_t8N_9",
        "outputId": "69072914-cc0d-4b10-83b8-3ef35320d0cb"
      },
      "execution_count": 18,
      "outputs": [
        {
          "output_type": "stream",
          "name": "stdout",
          "text": [
            "Addition result: 8\n",
            "Subtraction result: 6\n"
          ]
        }
      ]
    },
    {
      "cell_type": "markdown",
      "source": [
        "Q8. **Implement a class Person with a class method to count the total number of persons created.**"
      ],
      "metadata": {
        "id": "SC_gXUIL8TF3"
      }
    },
    {
      "source": [
        "class Person:\n",
        "    # Class attribute to keep track of the count of persons\n",
        "    total_persons = 0\n",
        "\n",
        "    def __init__(self, name):\n",
        "        self.name = name\n",
        "        Person.total_persons += 1  # Increment the count whenever a new person is created\n",
        "\n",
        "    @classmethod\n",
        "    def get_total_persons(cls):\n",
        "        return cls.total_persons\n",
        "\n",
        "# Example usage\n",
        "person1 = Person(\"Rakesh\")\n",
        "person2 = Person(\"Bobi\")\n",
        "person3 = Person(\"Monu\")\n",
        "\n",
        "# Access the total count of persons using the class method\n",
        "print(f\"Total persons created: {Person.get_total_persons()}\")"
      ],
      "cell_type": "code",
      "metadata": {
        "colab": {
          "base_uri": "https://localhost:8080/"
        },
        "id": "yztlUANa9hmo",
        "outputId": "71424e60-a29d-4d4a-b7af-869ba3c0eb6d"
      },
      "execution_count": 21,
      "outputs": [
        {
          "output_type": "stream",
          "name": "stdout",
          "text": [
            "Total persons created: 3\n"
          ]
        }
      ]
    },
    {
      "cell_type": "markdown",
      "source": [
        "Q9. **Write a class Fraction with attributes numerator and denominator. Override the str method to display the\n",
        "fraction as \"numerator/denominator\"**"
      ],
      "metadata": {
        "id": "aEcqJG8R9sr4"
      }
    },
    {
      "source": [
        "class Fraction:\n",
        "    def __init__(self, numerator, denominator):\n",
        "        self.numerator = numerator\n",
        "        self.denominator = denominator\n",
        "\n",
        "    def __str__(self):\n",
        "        return f\"{self.numerator}/{self.denominator}\"\n",
        "\n",
        "# Example usage\n",
        "my_fraction = Fraction(3, 4)\n",
        "print(my_fraction)  # Output: 3/4"
      ],
      "cell_type": "code",
      "metadata": {
        "colab": {
          "base_uri": "https://localhost:8080/"
        },
        "id": "zYLzh5Xr-brw",
        "outputId": "6b2eda6a-45a3-4fac-878c-9a2a110f637b"
      },
      "execution_count": 22,
      "outputs": [
        {
          "output_type": "stream",
          "name": "stdout",
          "text": [
            "3/4\n"
          ]
        }
      ]
    },
    {
      "cell_type": "markdown",
      "source": [
        "Q10. **Demonstrate operator overloading by creating a class Vector and overriding the add method to add two\n",
        "vectors.**"
      ],
      "metadata": {
        "id": "3TM-0t6E-ggc"
      }
    },
    {
      "source": [
        "class Vector:\n",
        "    def __init__(self, x, y):\n",
        "        self.x = x\n",
        "        self.y = y\n",
        "\n",
        "    def __add__(self, other):  # Overriding the + operator\n",
        "        return Vector(self.x + other.x, self.y + other.y)\n",
        "\n",
        "    def __str__(self):  # For printing the vector\n",
        "        return f\"({self.x}, {self.y})\"\n",
        "\n",
        "# Example usage:\n",
        "v1 = Vector(2, 3)\n",
        "v2 = Vector(4, 5)\n",
        "v3 = v1 + v2  # Using the overloaded + operator\n",
        "\n",
        "print(f\"v1: {v1}\")\n",
        "print(f\"v2: {v2}\")\n",
        "print(f\"v3: {v3}\")"
      ],
      "cell_type": "code",
      "metadata": {
        "colab": {
          "base_uri": "https://localhost:8080/"
        },
        "id": "5sqxP0tV-3Yi",
        "outputId": "17f4b147-4476-4c1c-dc15-24a12057c319"
      },
      "execution_count": 23,
      "outputs": [
        {
          "output_type": "stream",
          "name": "stdout",
          "text": [
            "v1: (2, 3)\n",
            "v2: (4, 5)\n",
            "v3: (6, 8)\n"
          ]
        }
      ]
    },
    {
      "cell_type": "markdown",
      "source": [
        "Q11. **Create a class Person with attributes name and age. Add a method greet() that prints \"Hello, my name is\n",
        "{name} and I am {age} years old\".**"
      ],
      "metadata": {
        "id": "UBbX6xl9_BQA"
      }
    },
    {
      "source": [
        "class Person:\n",
        "    def __init__(self, name, age):\n",
        "        self.name = name\n",
        "        self.age = age\n",
        "\n",
        "    def greet(self):\n",
        "        print(f\"Hello, my name is {self.name} and I am {self.age} years old\")\n",
        "\n",
        "# Example usage\n",
        "person1 = Person(\"Manish\", 30)\n",
        "person1.greet()  # Output: Hello, my name is Alice and I am 30 years old"
      ],
      "cell_type": "code",
      "metadata": {
        "colab": {
          "base_uri": "https://localhost:8080/"
        },
        "id": "xZTfZS9F_vVC",
        "outputId": "da463429-cda1-40a3-c89b-f486e60554ba"
      },
      "execution_count": 25,
      "outputs": [
        {
          "output_type": "stream",
          "name": "stdout",
          "text": [
            "Hello, my name is Manish and I am 30 years old\n"
          ]
        }
      ]
    },
    {
      "cell_type": "markdown",
      "source": [
        "Q12. **Implement a class Student with attributes name and grades. Create a method average_grade() to compute\n",
        "the average of the grades.**"
      ],
      "metadata": {
        "id": "-jsMeZLN_600"
      }
    },
    {
      "source": [
        "class Student:\n",
        "    def __init__(self, name, grades):\n",
        "        self.name = name\n",
        "        self.grades = grades\n",
        "\n",
        "    def average_grade(self):\n",
        "        if len(self.grades) == 0:  # Handle case of empty grades list\n",
        "            return 0\n",
        "        else:\n",
        "            return sum(self.grades) / len(self.grades)\n",
        "\n",
        "# Example usage\n",
        "student1 = Student(\"Ramesh\", [80, 53, 68, 82])\n",
        "average = student1.average_grade()\n",
        "print(f\"{student1.name}'s average grade: {average}\")"
      ],
      "cell_type": "code",
      "metadata": {
        "colab": {
          "base_uri": "https://localhost:8080/"
        },
        "id": "YxfhZ_DfARdK",
        "outputId": "a573b5be-63ab-4ec6-beed-de7ef6e4a166"
      },
      "execution_count": 26,
      "outputs": [
        {
          "output_type": "stream",
          "name": "stdout",
          "text": [
            "Ramesh's average grade: 70.75\n"
          ]
        }
      ]
    },
    {
      "cell_type": "markdown",
      "source": [
        "Q13. **Create a class Rectangle with methods set_dimensions() to set the dimensions and area() to calculate the\n",
        "area.**"
      ],
      "metadata": {
        "id": "Sg3bDp_BAlRJ"
      }
    },
    {
      "source": [
        "class Rectangle:\n",
        "    def __init__(self, length=0, width=0):  # Initialize with default values\n",
        "        self.length = length\n",
        "        self.width = width\n",
        "\n",
        "    def set_dimensions(self, length, width):\n",
        "        self.length = length\n",
        "        self.width = width\n",
        "\n",
        "    def area(self):\n",
        "        return self.length * self.width\n",
        "\n",
        "# Example usage\n",
        "rectangle = Rectangle()  # Create a rectangle object\n",
        "rectangle.set_dimensions(10, 5)  # Set dimensions\n",
        "area = rectangle.area()  # Calculate the area\n",
        "print(f\"Area of the rectangle: {area}\")"
      ],
      "cell_type": "code",
      "metadata": {
        "colab": {
          "base_uri": "https://localhost:8080/"
        },
        "id": "OqBnqGRzBEAU",
        "outputId": "58a87a93-9d63-4e92-f496-9dbe81b7a16f"
      },
      "execution_count": 27,
      "outputs": [
        {
          "output_type": "stream",
          "name": "stdout",
          "text": [
            "Area of the rectangle: 50\n"
          ]
        }
      ]
    },
    {
      "cell_type": "markdown",
      "source": [
        "Q14. **Create a class Employee with a method calculate_salary() that computes the salary based on hours worked\n",
        "and hourly rate. Create a derived class Manager that adds a bonus to the salary.**"
      ],
      "metadata": {
        "id": "ml-HOL65BQrq"
      }
    },
    {
      "source": [
        "class Employee:\n",
        "    def __init__(self, name, hourly_rate, hours_worked):\n",
        "        self.name = name\n",
        "        self.hourly_rate = hourly_rate\n",
        "        self.hours_worked = hours_worked\n",
        "\n",
        "    def calculate_salary(self):\n",
        "        return self.hourly_rate * self.hours_worked\n",
        "\n",
        "class Manager(Employee):\n",
        "    def __init__(self, name, hourly_rate, hours_worked, bonus):\n",
        "        super().__init__(name, hourly_rate, hours_worked)\n",
        "        self.bonus = bonus\n",
        "\n",
        "    def calculate_salary(self):\n",
        "        base_salary = super().calculate_salary()\n",
        "        return base_salary + self.bonus\n",
        "\n",
        "# Example usage\n",
        "employee = Employee(\"Tej\", 15, 40)\n",
        "print(f\"{employee.name}'s salary: ${employee.calculate_salary()}\")\n",
        "\n",
        "manager = Manager(\"Raj\", 20, 40, 500)\n",
        "print(f\"{manager.name}'s salary: ${manager.calculate_salary()}\")"
      ],
      "cell_type": "code",
      "metadata": {
        "colab": {
          "base_uri": "https://localhost:8080/"
        },
        "id": "gTNAumx1Bhb7",
        "outputId": "283c81ab-3cd7-4591-8243-d95fb3fc26fa"
      },
      "execution_count": 28,
      "outputs": [
        {
          "output_type": "stream",
          "name": "stdout",
          "text": [
            "Tej's salary: $600\n",
            "Raj's salary: $1300\n"
          ]
        }
      ]
    },
    {
      "cell_type": "markdown",
      "source": [
        "Q15. **Create a class Product with attributes name, price, and quantity. Implement a method total_price() that\n",
        "calculates the total price of the product.**"
      ],
      "metadata": {
        "id": "cXpUVNRTB1qR"
      }
    },
    {
      "source": [
        "class Product:\n",
        "    def __init__(self, name, price, quantity):\n",
        "        self.name = name\n",
        "        self.price = price\n",
        "        self.quantity = quantity\n",
        "\n",
        "    def total_price(self):\n",
        "        return self.price * self.quantity\n",
        "\n",
        "# Example usage\n",
        "product1 = Product(\"Laptop\", 1200, 2)\n",
        "total = product1.total_price()\n",
        "print(f\"Total price of {product1.name}: ${total}\")"
      ],
      "cell_type": "code",
      "metadata": {
        "colab": {
          "base_uri": "https://localhost:8080/"
        },
        "id": "-X4BOUbyCUqu",
        "outputId": "68724fff-67b5-463b-e7c5-660862828f4e"
      },
      "execution_count": 29,
      "outputs": [
        {
          "output_type": "stream",
          "name": "stdout",
          "text": [
            "Total price of Laptop: $2400\n"
          ]
        }
      ]
    },
    {
      "cell_type": "markdown",
      "source": [
        "Q16. **Create a class Animal with an abstract method sound(). Create two derived classes Cow and Sheep that\n",
        "implement the sound() method.**"
      ],
      "metadata": {
        "id": "BLmardJPCfCy"
      }
    },
    {
      "source": [
        "from abc import ABC, abstractmethod\n",
        "\n",
        "class Animal(ABC):  # Animal is an abstract base class\n",
        "    @abstractmethod\n",
        "    def sound(self):\n",
        "        pass  # This method is meant to be overridden\n",
        "\n",
        "class Cow(Animal):\n",
        "    def sound(self):\n",
        "        print(\"Moo!\")\n",
        "\n",
        "class Sheep(Animal):\n",
        "    def sound(self):\n",
        "        print(\"Baa!\")\n",
        "\n",
        "# Example usage\n",
        "cow = Cow()\n",
        "cow.sound()  # Output: Moo!\n",
        "\n",
        "sheep = Sheep()\n",
        "sheep.sound()  # Output: Baa!"
      ],
      "cell_type": "code",
      "metadata": {
        "colab": {
          "base_uri": "https://localhost:8080/"
        },
        "id": "K95QdpiTDEDe",
        "outputId": "8707935a-6d70-46b7-c853-85d8530bdc39"
      },
      "execution_count": 30,
      "outputs": [
        {
          "output_type": "stream",
          "name": "stdout",
          "text": [
            "Moo!\n",
            "Baa!\n"
          ]
        }
      ]
    },
    {
      "cell_type": "markdown",
      "source": [
        "Q17. **Create a class Book with attributes title, author, and year_published. Add a method get_book_info() that\n",
        "returns a formatted string with the book's details.**\n"
      ],
      "metadata": {
        "id": "_y6JlfYqDKne"
      }
    },
    {
      "source": [
        "class Book:\n",
        "    def __init__(self, title, author, year_published):\n",
        "        self.title = title\n",
        "        self.author = author\n",
        "        self.year_published = year_published\n",
        "\n",
        "    def get_book_info(self):\n",
        "        return f\"Title: {self.title}, Author: {self.author}, Year Published: {self.year_published}\"\n",
        "\n",
        "# Example usage\n",
        "book1 = Book(\"The Lord of the Rings\", \"J.R.R. Tolkien\", 1954)\n",
        "book_info = book1.get_book_info()\n",
        "print(book_info)\n",
        "# Output: Title: The Lord of the Rings, Author: J.R.R. Tolkien, Year Published: 1954"
      ],
      "cell_type": "code",
      "metadata": {
        "colab": {
          "base_uri": "https://localhost:8080/"
        },
        "id": "Q8L5wKqADdko",
        "outputId": "73f7afa3-acb1-4a74-aa0b-ca5f4fd71b08"
      },
      "execution_count": 31,
      "outputs": [
        {
          "output_type": "stream",
          "name": "stdout",
          "text": [
            "Title: The Lord of the Rings, Author: J.R.R. Tolkien, Year Published: 1954\n"
          ]
        }
      ]
    },
    {
      "cell_type": "markdown",
      "source": [
        "Q18. **Create a class House with attributes address and price. Create a derived class Mansion that adds an\n",
        "attribute number_of_rooms.**"
      ],
      "metadata": {
        "id": "45C2t2vMDpXS"
      }
    },
    {
      "source": [
        "class House:\n",
        "    def __init__(self, address, price):\n",
        "        self.address = address\n",
        "        self.price = price\n",
        "\n",
        "    def display_info(self):\n",
        "        print(f\"Address: {self.address}, Price: ${self.price}\")\n",
        "\n",
        "class Mansion(House):\n",
        "    def __init__(self, address, price, number_of_rooms):\n",
        "        super().__init__(address, price)  # Initialize base class attributes\n",
        "        self.number_of_rooms = number_of_rooms\n",
        "\n",
        "    def display_info(self):\n",
        "        super().display_info()  # Call base class display_info\n",
        "        print(f\"Number of Rooms: {self.number_of_rooms}\")\n",
        "\n",
        "# Example usage\n",
        "house1 = House(\"115 East Delhi\", 500000)\n",
        "house1.display_info()\n",
        "\n",
        "mansion1 = Mansion(\"125 Ghaziabad\", 2000000, 12)\n",
        "mansion1.display_info()"
      ],
      "cell_type": "code",
      "metadata": {
        "colab": {
          "base_uri": "https://localhost:8080/"
        },
        "id": "BobuVA8IEIMU",
        "outputId": "e898be71-a145-42b5-f9c4-560b081faead"
      },
      "execution_count": 35,
      "outputs": [
        {
          "output_type": "stream",
          "name": "stdout",
          "text": [
            "Address: 115 East Delhi, Price: $500000\n",
            "Address: 125 Ghaziabad, Price: $2000000\n",
            "Number of Rooms: 12\n"
          ]
        }
      ]
    },
    {
      "cell_type": "code",
      "source": [],
      "metadata": {
        "id": "nwv7F2MgB0If"
      },
      "execution_count": null,
      "outputs": []
    }
  ]
}